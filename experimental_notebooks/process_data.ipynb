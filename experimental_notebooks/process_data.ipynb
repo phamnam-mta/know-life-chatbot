{
 "cells": [
  {
   "cell_type": "code",
   "execution_count": 1,
   "metadata": {},
   "outputs": [
    {
     "data": {
      "text/plain": "804"
     },
     "execution_count": 1,
     "metadata": {},
     "output_type": "execute_result"
    }
   ],
   "source": [
    "import json\n",
    "from tqdm import tqdm\n",
    "\n",
    "with open(\"/home/phamnam/Documents/vinbrain/know_life/data/raw_format/covid_faq.json\", \"r\") as file:\n",
    "    data = json.load(file)\n",
    "len(data)"
   ]
  },
  {
   "cell_type": "code",
   "execution_count": 3,
   "metadata": {},
   "outputs": [],
   "source": [
    "with open(\"/home/phamnam/Documents/vinbrain/know_life/data/raw_format/faq_covid.json\", \"r\") as file:\n",
    "    _faq = json.load(file)"
   ]
  },
  {
   "cell_type": "code",
   "execution_count": 4,
   "metadata": {},
   "outputs": [],
   "source": [
    "for k in _faq.keys():\n",
    "    data.extend(_faq[k])"
   ]
  },
  {
   "cell_type": "code",
   "execution_count": 2,
   "metadata": {},
   "outputs": [],
   "source": [
    "\n",
    "with open(\"/home/phamnam/Documents/vinbrain/know_life/data/raw_format/questions.txt\", \"w\") as file:\n",
    "    for idx, d in enumerate(data):\n",
    "        file.write(f\"- intent: covid_faq/q_{idx}\\n  examples: |\\n    - {d['question']}\\n\")"
   ]
  },
  {
   "cell_type": "code",
   "execution_count": 7,
   "metadata": {},
   "outputs": [],
   "source": [
    "with open(\"/home/phamnam/Documents/vinbrain/know_life/data/raw_format/answers.txt\", \"w\") as file:\n",
    "    for idx, d in enumerate(data):\n",
    "        answer = d['answer'].replace('\\\"', '\\'')\n",
    "        file.write(f\"  utter_covid_faq/q_{idx}:\\n  - text: \\\"{answer}\\\"\\n\")"
   ]
  },
  {
   "cell_type": "code",
   "execution_count": null,
   "metadata": {},
   "outputs": [],
   "source": []
  }
 ],
 "metadata": {
  "interpreter": {
   "hash": "9db5377f7af6b00f7a57a191b3a043bdd4a5004e19182a8a486dcfc1f4c7fb83"
  },
  "kernelspec": {
   "display_name": "Python 3.7.9 64-bit",
   "name": "python379jvsc74a57bd04ddb9aa67db9cff1965b5183b9495c8fbcf88dca8dab7bb16ba1b79f98f83fab"
  },
  "language_info": {
   "codemirror_mode": {
    "name": "ipython",
    "version": 3
   },
   "file_extension": ".py",
   "mimetype": "text/x-python",
   "name": "python",
   "nbconvert_exporter": "python",
   "pygments_lexer": "ipython3",
   "version": "3.7.9"
  },
  "orig_nbformat": 4
 },
 "nbformat": 4,
 "nbformat_minor": 2
}